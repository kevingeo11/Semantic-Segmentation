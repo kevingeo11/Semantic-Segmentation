{
 "cells": [
  {
   "cell_type": "code",
   "execution_count": 1,
   "metadata": {},
   "outputs": [],
   "source": [
    "from collections import namedtuple\n",
    "import numpy as np\n",
    "import pandas as pd\n",
    "import cv2\n",
    "import matplotlib.pyplot as plt\n",
    "import scipy.io as sio\n",
    "import os"
   ]
  },
  {
   "cell_type": "code",
   "execution_count": 15,
   "metadata": {},
   "outputs": [
    {
     "name": "stdout",
     "output_type": "stream",
     "text": [
      "entering folder ../../../cityscapes/gtFine/test/berlin\n",
      "entering folder ../../../cityscapes/gtFine/test/munich\n",
      "entering folder ../../../cityscapes/gtFine/test/bonn\n",
      "entering folder ../../../cityscapes/gtFine/test/leverkusen\n",
      "entering folder ../../../cityscapes/gtFine/test/bielefeld\n",
      "entering folder ../../../cityscapes/gtFine/test/mainz\n",
      "entering folder ../../../cityscapes/gtFine/val/frankfurt\n",
      "entering folder ../../../cityscapes/gtFine/val/munster\n",
      "entering folder ../../../cityscapes/gtFine/val/lindau\n",
      "entering folder ../../../cityscapes/gtFine/train/monchengladbach\n",
      "entering folder ../../../cityscapes/gtFine/train/hamburg\n",
      "entering folder ../../../cityscapes/gtFine/train/darmstadt\n",
      "entering folder ../../../cityscapes/gtFine/train/jena\n",
      "entering folder ../../../cityscapes/gtFine/train/erfurt\n",
      "entering folder ../../../cityscapes/gtFine/train/aachen\n",
      "entering folder ../../../cityscapes/gtFine/train/bochum\n",
      "entering folder ../../../cityscapes/gtFine/train/dusseldorf\n",
      "entering folder ../../../cityscapes/gtFine/train/bremen\n",
      "entering folder ../../../cityscapes/gtFine/train/stuttgart\n",
      "entering folder ../../../cityscapes/gtFine/train/hanover\n",
      "entering folder ../../../cityscapes/gtFine/train/krefeld\n",
      "entering folder ../../../cityscapes/gtFine/train/zurich\n",
      "entering folder ../../../cityscapes/gtFine/train/ulm\n",
      "entering folder ../../../cityscapes/gtFine/train/cologne\n",
      "entering folder ../../../cityscapes/gtFine/train/tubingen\n",
      "entering folder ../../../cityscapes/gtFine/train/weimar\n",
      "entering folder ../../../cityscapes/gtFine/train/strasbourg\n"
     ]
    }
   ],
   "source": [
    "# files = []\n",
    "# for dirname, foldernames, filenames in os.walk('../../../cityscapes/gtFine/'):\n",
    "#     if len(foldernames) == 0:\n",
    "#         print('entering folder ' + dirname)\n",
    "#         for filename in filenames:\n",
    "#             check = filename.find('gtFine_instanceIds.png') != -1 or filename.find('gtFine_labelIds.png') != -1 or \\\n",
    "#                     filename.find('gtFine_polygons.json') != -1\n",
    "#             if check:\n",
    "#                 os.remove(os.path.join(dirname, filename))"
   ]
  },
  {
   "cell_type": "code",
   "execution_count": 20,
   "metadata": {},
   "outputs": [
    {
     "name": "stdout",
     "output_type": "stream",
     "text": [
      "entering folder ../../../cityscapes/gtFine/test/berlin ||| no of files:  544\n",
      "entering folder ../../../cityscapes/gtFine/test/munich ||| no of files:  398\n",
      "entering folder ../../../cityscapes/gtFine/test/bonn ||| no of files:  46\n",
      "entering folder ../../../cityscapes/gtFine/test/leverkusen ||| no of files:  58\n",
      "entering folder ../../../cityscapes/gtFine/test/bielefeld ||| no of files:  181\n",
      "entering folder ../../../cityscapes/gtFine/test/mainz ||| no of files:  298\n",
      "entering folder ../../../cityscapes/gtFine/val/frankfurt ||| no of files:  267\n",
      "entering folder ../../../cityscapes/gtFine/val/munster ||| no of files:  174\n",
      "entering folder ../../../cityscapes/gtFine/val/lindau ||| no of files:  59\n",
      "entering folder ../../../cityscapes/gtFine/train/monchengladbach ||| no of files:  94\n",
      "entering folder ../../../cityscapes/gtFine/train/hamburg ||| no of files:  248\n",
      "entering folder ../../../cityscapes/gtFine/train/darmstadt ||| no of files:  85\n",
      "entering folder ../../../cityscapes/gtFine/train/jena ||| no of files:  119\n",
      "entering folder ../../../cityscapes/gtFine/train/erfurt ||| no of files:  109\n",
      "entering folder ../../../cityscapes/gtFine/train/aachen ||| no of files:  174\n",
      "entering folder ../../../cityscapes/gtFine/train/bochum ||| no of files:  96\n",
      "entering folder ../../../cityscapes/gtFine/train/dusseldorf ||| no of files:  221\n",
      "entering folder ../../../cityscapes/gtFine/train/bremen ||| no of files:  316\n",
      "entering folder ../../../cityscapes/gtFine/train/stuttgart ||| no of files:  196\n",
      "entering folder ../../../cityscapes/gtFine/train/hanover ||| no of files:  196\n",
      "entering folder ../../../cityscapes/gtFine/train/krefeld ||| no of files:  99\n",
      "entering folder ../../../cityscapes/gtFine/train/zurich ||| no of files:  122\n",
      "entering folder ../../../cityscapes/gtFine/train/ulm ||| no of files:  95\n",
      "entering folder ../../../cityscapes/gtFine/train/cologne ||| no of files:  154\n",
      "entering folder ../../../cityscapes/gtFine/train/tubingen ||| no of files:  144\n",
      "entering folder ../../../cityscapes/gtFine/train/weimar ||| no of files:  142\n",
      "entering folder ../../../cityscapes/gtFine/train/strasbourg ||| no of files:  365\n"
     ]
    }
   ],
   "source": [
    "files = []\n",
    "for dirname, foldernames, filenames in os.walk('../../../cityscapes/gtFine/'):\n",
    "    if len(foldernames) == 0:\n",
    "        print('entering folder ' + dirname + ' ||| no of files: ', len(filenames))"
   ]
  },
  {
   "cell_type": "code",
   "execution_count": 21,
   "metadata": {},
   "outputs": [
    {
     "name": "stdout",
     "output_type": "stream",
     "text": [
      "entering folder ../../../cityscapes/leftImg8bit/test/berlin ||| no of files:  544\n",
      "entering folder ../../../cityscapes/leftImg8bit/test/munich ||| no of files:  398\n",
      "entering folder ../../../cityscapes/leftImg8bit/test/bonn ||| no of files:  46\n",
      "entering folder ../../../cityscapes/leftImg8bit/test/leverkusen ||| no of files:  58\n",
      "entering folder ../../../cityscapes/leftImg8bit/test/bielefeld ||| no of files:  181\n",
      "entering folder ../../../cityscapes/leftImg8bit/test/mainz ||| no of files:  298\n",
      "entering folder ../../../cityscapes/leftImg8bit/val/frankfurt ||| no of files:  267\n",
      "entering folder ../../../cityscapes/leftImg8bit/val/munster ||| no of files:  174\n",
      "entering folder ../../../cityscapes/leftImg8bit/val/lindau ||| no of files:  59\n",
      "entering folder ../../../cityscapes/leftImg8bit/train/monchengladbach ||| no of files:  94\n",
      "entering folder ../../../cityscapes/leftImg8bit/train/hamburg ||| no of files:  248\n",
      "entering folder ../../../cityscapes/leftImg8bit/train/darmstadt ||| no of files:  85\n",
      "entering folder ../../../cityscapes/leftImg8bit/train/jena ||| no of files:  119\n",
      "entering folder ../../../cityscapes/leftImg8bit/train/erfurt ||| no of files:  109\n",
      "entering folder ../../../cityscapes/leftImg8bit/train/aachen ||| no of files:  174\n",
      "entering folder ../../../cityscapes/leftImg8bit/train/bochum ||| no of files:  96\n",
      "entering folder ../../../cityscapes/leftImg8bit/train/dusseldorf ||| no of files:  221\n",
      "entering folder ../../../cityscapes/leftImg8bit/train/bremen ||| no of files:  316\n",
      "entering folder ../../../cityscapes/leftImg8bit/train/stuttgart ||| no of files:  196\n",
      "entering folder ../../../cityscapes/leftImg8bit/train/hanover ||| no of files:  196\n",
      "entering folder ../../../cityscapes/leftImg8bit/train/krefeld ||| no of files:  99\n",
      "entering folder ../../../cityscapes/leftImg8bit/train/zurich ||| no of files:  122\n",
      "entering folder ../../../cityscapes/leftImg8bit/train/ulm ||| no of files:  95\n",
      "entering folder ../../../cityscapes/leftImg8bit/train/cologne ||| no of files:  154\n",
      "entering folder ../../../cityscapes/leftImg8bit/train/tubingen ||| no of files:  144\n",
      "entering folder ../../../cityscapes/leftImg8bit/train/weimar ||| no of files:  142\n",
      "entering folder ../../../cityscapes/leftImg8bit/train/strasbourg ||| no of files:  365\n"
     ]
    }
   ],
   "source": [
    "files = []\n",
    "for dirname, foldernames, filenames in os.walk('../../../cityscapes/leftImg8bit/'):\n",
    "    if len(foldernames) == 0:\n",
    "        print('entering folder ' + dirname + ' ||| no of files: ', len(filenames))"
   ]
  },
  {
   "cell_type": "code",
   "execution_count": null,
   "metadata": {},
   "outputs": [],
   "source": []
  }
 ],
 "metadata": {
  "kernelspec": {
   "display_name": "deep_env",
   "language": "python",
   "name": "deep_env"
  },
  "language_info": {
   "codemirror_mode": {
    "name": "ipython",
    "version": 3
   },
   "file_extension": ".py",
   "mimetype": "text/x-python",
   "name": "python",
   "nbconvert_exporter": "python",
   "pygments_lexer": "ipython3",
   "version": "3.6.12"
  }
 },
 "nbformat": 4,
 "nbformat_minor": 2
}
